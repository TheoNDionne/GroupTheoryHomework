{
 "cells": [
  {
   "cell_type": "markdown",
   "metadata": {},
   "source": [
    "# Group Theory Homework: A Study of Point Group Symmetries in Molecules\n",
    "\n",
    "A notebook that lays out plainly all the code used to complete the associated homework assg. Written by Theo N. Dionne."
   ]
  },
  {
   "cell_type": "code",
   "execution_count": 1,
   "metadata": {},
   "outputs": [],
   "source": [
    "# imports\n",
    "import numpy as np"
   ]
  },
  {
   "cell_type": "markdown",
   "metadata": {},
   "source": [
    "## Calculating the decomposition of the mechanical reps"
   ]
  },
  {
   "cell_type": "code",
   "execution_count": 2,
   "metadata": {},
   "outputs": [],
   "source": [
    "# functions\n",
    "def get_irrep_multiplicity(representation_characters, character_table, elements_per_class):\n",
    "    \"\"\"A function that gets the multiplicity of each irrep \n",
    "       for real representations using the magic formula.\n",
    "    \"\"\"\n",
    "    # multiply each character by the number of elements in its class\n",
    "    representation_characters_adjusted = representation_characters*elements_per_class\n",
    "\n",
    "    # perform a matrix multiplication between the character table and divide by group size\n",
    "    multiplicity_vector = character_table @ representation_characters_adjusted / np.sum(elements_per_class)\n",
    "\n",
    "    return multiplicity_vector"
   ]
  },
  {
   "cell_type": "markdown",
   "metadata": {},
   "source": [
    "### AB4 (C4v)"
   ]
  },
  {
   "cell_type": "code",
   "execution_count": 3,
   "metadata": {},
   "outputs": [
    {
     "name": "stdout",
     "output_type": "stream",
     "text": [
      "[3. 1. 1. 2. 4.]\n"
     ]
    }
   ],
   "source": [
    "# define the character table of the PG\n",
    "character_table_C4v = np.array([\n",
    "    [1, 1, 1, 1, 1],\n",
    "    [1, 1, 1,-1,-1],\n",
    "    [1, 1,-1, 1,-1],\n",
    "    [1, 1,-1,-1, 1],\n",
    "    [2,-2, 0, 0, 0]\n",
    "])  \n",
    "\n",
    "# define the number of elements per class\n",
    "elements_per_class_C4v = np.array([1,1,2,2,2])\n",
    "\n",
    "# the characters of the mechanical representation\n",
    "M_characters_C4v = np.array([15,-1,1,1,3])\n",
    "\n",
    "# Getting and printing the mutliplicities\n",
    "M_multiplicities_C4v = get_irrep_multiplicity(M_characters_C4v, character_table_C4v, elements_per_class_C4v)\n",
    "print(M_multiplicities_C4v) # in the same order as the table in the pdf"
   ]
  },
  {
   "cell_type": "markdown",
   "metadata": {},
   "source": [
    "### UF6 (Oh)"
   ]
  },
  {
   "cell_type": "code",
   "execution_count": 4,
   "metadata": {},
   "outputs": [
    {
     "name": "stdout",
     "output_type": "stream",
     "text": [
      "[1. 0. 0. 0. 1. 0. 1. 3. 1. 1.]\n"
     ]
    }
   ],
   "source": [
    "# define the character table of the PG\n",
    "character_table_Oh = np.array([\n",
    "[1, 1, 1, 1, 1, 1, 1, 1, 1, 1],\n",
    "[1, 1, 1, 1, 1,-1,-1,-1,-1,-1],\n",
    "[1, 1,-1,-1, 1, 1, 1,-1,-1, 1],\n",
    "[1, 1,-1,-1, 1,-1,-1, 1, 1,-1],\n",
    "[2, 2, 0, 0,-1, 2, 2, 0, 0,-1],\n",
    "[2, 2, 0, 0,-1,-2,-2, 0, 0, 1],\n",
    "[3,-1, 1,-1, 0, 3,-1, 1,-1, 0],\n",
    "[3,-1, 1,-1, 0,-3, 1,-1, 1, 0],\n",
    "[3,-1,-1, 1, 0, 3,-1,-1, 1, 0],\n",
    "[3,-1,-1, 1, 0,-3, 1, 1,-1, 0]\n",
    "])  \n",
    "\n",
    "# define the number of elements per class\n",
    "elements_per_class_Oh = np.array([1, 3, 6, 6, 8, 1, 3, 6, 6, 8])\n",
    "\n",
    "# the characters of the mechanical representation\n",
    "M_characters_Oh = np.array([21,-3, 3,-1, 0,-3, 5,-1, 3, 0])\n",
    "\n",
    "# Getting and printing the mutliplicities\n",
    "M_multiplicities_Oh = get_irrep_multiplicity(M_characters_Oh, character_table_Oh, elements_per_class_Oh)\n",
    "print(M_multiplicities_Oh) # in the same order as the table in the pdf"
   ]
  },
  {
   "cell_type": "code",
   "execution_count": null,
   "metadata": {},
   "outputs": [],
   "source": []
  }
 ],
 "metadata": {
  "kernelspec": {
   "display_name": "pv",
   "language": "python",
   "name": "python3"
  },
  "language_info": {
   "codemirror_mode": {
    "name": "ipython",
    "version": 3
   },
   "file_extension": ".py",
   "mimetype": "text/x-python",
   "name": "python",
   "nbconvert_exporter": "python",
   "pygments_lexer": "ipython3",
   "version": "3.12.3"
  }
 },
 "nbformat": 4,
 "nbformat_minor": 2
}
