{
 "cells": [
  {
   "cell_type": "markdown",
   "metadata": {},
   "source": [
    "# Group Theory Homework: A Study of Point Group Symmetries in Molecules\n",
    "\n",
    "A notebook that lays out plainly all the code used to complete the associated homework assg. Written by Theo N. Dionne."
   ]
  },
  {
   "cell_type": "code",
   "execution_count": 1,
   "metadata": {},
   "outputs": [],
   "source": [
    "# imports\n",
    "import numpy as np\n",
    "import matplotlib.pyplot as plt\n",
    "\n",
    "import matplotlib as mpl\n",
    "mpl.rcParams[\"figure.dpi\"] = 150"
   ]
  },
  {
   "cell_type": "markdown",
   "metadata": {},
   "source": [
    "## Calculating the decomposition of the mechanical reps"
   ]
  },
  {
   "cell_type": "markdown",
   "metadata": {},
   "source": [
    "### Functions"
   ]
  },
  {
   "cell_type": "code",
   "execution_count": 2,
   "metadata": {},
   "outputs": [],
   "source": [
    "def get_irrep_multiplicity(representation_characters, character_table, elements_per_class):\n",
    "   \"\"\"A function that gets the multiplicity of each irrep \n",
    "   for real representations using the magic formula.\n",
    "\n",
    "      Arguments:\n",
    "         representation_characters (np.array((# classes), dtype=float)) : characters of the rep to decompose.\n",
    "         character_table (np.array((# classes, # classes), dtype=float)) : character table; line->irrep, col->class.\n",
    "         elements_per_class (np.array((# classes), dtype=int)) : # elements per class\n",
    "\n",
    "      Returns:\n",
    "         multiplicity_vector (np.array((# irreps), dtype=int)) : multiplicities for each irreps in provided rep.\n",
    "    \"\"\"\n",
    "   # multiply each character by the number of elements in its class\n",
    "   representation_characters_adjusted = representation_characters*elements_per_class\n",
    "\n",
    "   # perform a matrix multiplication between the character table and divide by group size\n",
    "   multiplicity_vector = character_table @ representation_characters_adjusted / np.sum(elements_per_class)\n",
    "\n",
    "   return multiplicity_vector"
   ]
  },
  {
   "cell_type": "markdown",
   "metadata": {},
   "source": [
    "### AB4 (C4v) Decomposition"
   ]
  },
  {
   "cell_type": "code",
   "execution_count": 3,
   "metadata": {},
   "outputs": [
    {
     "name": "stdout",
     "output_type": "stream",
     "text": [
      "[3. 1. 1. 2. 4.]\n"
     ]
    }
   ],
   "source": [
    "# define the character table of the PG\n",
    "character_table_C4v = np.array([\n",
    "    [1, 1, 1, 1, 1],\n",
    "    [1, 1, 1,-1,-1],\n",
    "    [1, 1,-1, 1,-1],\n",
    "    [1, 1,-1,-1, 1],\n",
    "    [2,-2, 0, 0, 0]\n",
    "])  \n",
    "\n",
    "# define the number of elements per class\n",
    "elements_per_class_C4v = np.array([1,1,2,2,2])\n",
    "\n",
    "# the characters of the mechanical representation\n",
    "M_characters_C4v = np.array([15,-1,1,1,3])\n",
    "\n",
    "# Getting and printing the mutliplicities\n",
    "M_multiplicities_C4v = get_irrep_multiplicity(M_characters_C4v, character_table_C4v, elements_per_class_C4v)\n",
    "print(M_multiplicities_C4v) # in the same order as the table in the pdf"
   ]
  },
  {
   "cell_type": "markdown",
   "metadata": {},
   "source": [
    "### UF6 (Oh) Decomposition"
   ]
  },
  {
   "cell_type": "code",
   "execution_count": 4,
   "metadata": {},
   "outputs": [
    {
     "name": "stdout",
     "output_type": "stream",
     "text": [
      "[1. 0. 0. 0. 1. 0. 1. 3. 1. 1.]\n"
     ]
    }
   ],
   "source": [
    "# define the character table of the PG\n",
    "character_table_Oh = np.array([\n",
    "[1, 1, 1, 1, 1, 1, 1, 1, 1, 1],\n",
    "[1, 1, 1, 1, 1,-1,-1,-1,-1,-1],\n",
    "[1, 1,-1,-1, 1, 1, 1,-1,-1, 1],\n",
    "[1, 1,-1,-1, 1,-1,-1, 1, 1,-1],\n",
    "[2, 2, 0, 0,-1, 2, 2, 0, 0,-1],\n",
    "[2, 2, 0, 0,-1,-2,-2, 0, 0, 1],\n",
    "[3,-1, 1,-1, 0, 3,-1, 1,-1, 0],\n",
    "[3,-1, 1,-1, 0,-3, 1,-1, 1, 0],\n",
    "[3,-1,-1, 1, 0, 3,-1,-1, 1, 0],\n",
    "[3,-1,-1, 1, 0,-3, 1, 1,-1, 0]\n",
    "])  \n",
    "\n",
    "# define the number of elements per class\n",
    "elements_per_class_Oh = np.array([1, 3, 6, 6, 8, 1, 3, 6, 6, 8])\n",
    "\n",
    "# the characters of the mechanical representation\n",
    "M_characters_Oh = np.array([21,-3, 3,-1, 0,-3, 5,-1, 3, 0])\n",
    "\n",
    "# Getting and printing the mutliplicities\n",
    "M_multiplicities_Oh = get_irrep_multiplicity(M_characters_Oh, character_table_Oh, elements_per_class_Oh)\n",
    "print(M_multiplicities_Oh) # in the same order as the table in the pdf"
   ]
  },
  {
   "cell_type": "markdown",
   "metadata": {},
   "source": [
    "## Getting symmetry adapted modes"
   ]
  },
  {
   "cell_type": "code",
   "execution_count": null,
   "metadata": {},
   "outputs": [],
   "source": [
    "# functions\n",
    "\n",
    "def _get_permutation_matrices(atom_coordinates, vector_rep):\n",
    "    \"\"\"A function that gets the matrices (permutation matrices) that define \n",
    "    how the atoms are permutationped under the action of the group.\n",
    "    \n",
    "    Arguments:\n",
    "        atom_coordinates (np.array((3, # atoms), dtype=float)) : the cartesian coordinates for the atoms.\n",
    "        vector_rep (np.array((# group elements, 3, 3), dtype=float)) : array of matrices for the vector rep.\n",
    "\n",
    "    Returns:\n",
    "        permutation_matrices (np.array((# group elements, # atoms, # atoms), dtype=int)) the permutation matrix allowing\n",
    "            to represent the action of the group elements on the atoms.\n",
    "        number_of_operations (int) : # elements in the group.\n",
    "        number_of_atoms (int) : # atoms.\n",
    "    \"\"\"\n",
    "\n",
    "    # generate empty permutation matrix array and get numbers\n",
    "    number_of_operations = np.shape(vector_rep)[0] # number of group elements considered\n",
    "    number_of_atoms = np.shape(atom_coordinates)[1] # number of atoms considered\n",
    "    permutation_matrices = np.zeros((number_of_operations, number_of_atoms, number_of_atoms))\n",
    "\n",
    "    # applies every transformation to the atom coordinates\n",
    "    transformed_coordinates = vector_rep @ atom_coordinates\n",
    "\n",
    "    for i in range(number_of_operations): # loop over elems in the group\n",
    "        for j in range(number_of_atoms): # loop over all atoms (for init atom coordinates)\n",
    "            for k in range(number_of_atoms): # loop over all atoms (for transformed atom coordinates)\n",
    "                norm_transformed_minus_reference = np.linalg.norm(transformed_coordinates[i,:,k] - atom_coordinates[:,j])\n",
    "                if norm_transformed_minus_reference == 0: # the norm can only be zero when v' = v, only happens for one vec\n",
    "                    # set permutation matrix\n",
    "                    permutation_matrices[i,j,k] = 1 # place 1 at correct place to get the permutation matrix\n",
    "                    break # doesn't need to look further once found the match\n",
    "        \n",
    "    return permutation_matrices, number_of_operations, number_of_atoms\n",
    "\n",
    "\n",
    "def get_mechanical_representation(atom_coordinates, vector_rep):\n",
    "    \"\"\"A function that calculates the mechanical representation based off the fact \n",
    "    that M = S \\\\otimes V where S is the permutation matrix and V is the vector representation\n",
    "    \n",
    "    Arguments:\n",
    "        atom_coordinates (np.array((3, # atoms), dtype=float)) : the cartesian coordinates for the atoms.\n",
    "        vector_rep (np.array((# group elements, 3, 3), dtype=float)) : array of matrices for the vector rep.\n",
    "\n",
    "    Returns:\n",
    "        mechanical_rep (np.array((# group elements, 3*# atoms, 3*# atoms), dtype=float)) : array of matrices for the mechanical rep.\n",
    "    \"\"\"\n",
    "\n",
    "    # obtain permutation matrices\n",
    "    permutation_matrices, number_of_operations, number_of_atoms = _get_permutation_matrices(atom_coordinates, vector_rep)\n",
    "    \n",
    "    # initialize mechanical rep matrices\n",
    "    m_rep_size = 3*number_of_atoms\n",
    "    mechanical_rep = np.zeros((number_of_operations, m_rep_size, m_rep_size))\n",
    "    \n",
    "    # generate the matrices (take tensor product of S\\\\otimesV)\n",
    "    for i in range(number_of_operations):\n",
    "        mechanical_rep[i,:,:] = np.kron(permutation_matrices[i,:,:], vector_rep[i,:,:])\n",
    "\n",
    "    return mechanical_rep\n",
    "\n",
    "\n",
    "def get_symmetry_adapted_modes(initial_coords, irrep, mechanical_rep, character_table, elements_per_class):\n",
    "    \"\"\"A function that gets the symmetry adapted modes using the projector formula (loosely).\n",
    "    \n",
    "    Arguments:\n",
    "        initial_coords ()\n",
    "        irrep ()\n",
    "        mechanical_rep ()\n",
    "        character_table ()\n",
    "        elements_per_class ()\n",
    "        \n",
    "    Returns:\n",
    "\n",
    "    \"\"\"\n",
    "    \n",
    "    # get numbers\n",
    "    number_of_atoms = np.shape(initial_coords)[1] # number of atoms, useful for reshaping at the end\n",
    "    number_of_elements = np.shape(mechanical_rep)[0] # number of elements in the group\n",
    "\n",
    "    # initialize and format arrays\n",
    "    initial_coords_flat = np.ravel(initial_coords, order=\"F\") # flattens initial coords in col-dominant order\n",
    "    symmetry_adapted_modes_flat = np.zeros_like(initial_coords_flat) # flat version of the symmetry adapted modes (useful for mult with M)\n",
    "    \n",
    "    # Repeat the characters of the selected irrep once for every element in the class\n",
    "    characters_for_irreps = character_table[irrep, :] # gets the appropriate character vector\n",
    "    broadcasted_characters = np.repeat(characters_for_irreps, elements_per_class) # broadcasts characters appropriately\n",
    "\n",
    "    # loops over elements loosely implementing projector formula\n",
    "    for i in range(number_of_elements): # loops over every elem (for creating the sum in proj formula)\n",
    "        symmetry_adapted_modes_flat += broadcasted_characters[i] * mechanical_rep[i,:,:] @ initial_coords_flat\n",
    "\n",
    "    # return properly reshaped array\n",
    "    return symmetry_adapted_modes_flat.reshape((3,number_of_atoms), order=\"F\")"
   ]
  },
  {
   "cell_type": "code",
   "execution_count": 10,
   "metadata": {},
   "outputs": [],
   "source": [
    "# spatial coordinates of the molecule AB4\n",
    "atom_spatial_coordinates_C4v = np.array([\n",
    "    [ 0, 1,-1,-1, 1],\n",
    "    [ 0, 1, 1,-1,-1],\n",
    "    [ 1.5, 0, 0, 0, 0]\n",
    "])\n",
    "\n",
    "# Writting down the matrices from genpos\n",
    "vector_rep_C4v = np.array([\n",
    "    [\n",
    "        [ 1, 0, 0],\n",
    "        [ 0, 1, 0],\n",
    "        [ 0, 0, 1]\n",
    "    ],\n",
    "    [\n",
    "        [-1, 0, 0],\n",
    "        [ 0,-1, 0],\n",
    "        [ 0, 0, 1]\n",
    "    ],\n",
    "    [\n",
    "        [ 0,-1, 0],\n",
    "        [ 1, 0, 0],\n",
    "        [ 0, 0, 1]\n",
    "    ],\n",
    "    [\n",
    "        [ 0, 1, 0],\n",
    "        [-1, 0, 0],\n",
    "        [ 0, 0, 1]\n",
    "    ],\n",
    "    [\n",
    "        [ 1, 0, 0],\n",
    "        [ 0,-1, 0],\n",
    "        [ 0, 0, 1]\n",
    "    ],\n",
    "    [\n",
    "        [-1, 0, 0],\n",
    "        [ 0, 1, 0],\n",
    "        [ 0, 0, 1]\n",
    "    ],\n",
    "    [\n",
    "        [ 0,-1, 0],\n",
    "        [-1, 0, 0],\n",
    "        [ 0, 0, 1]\n",
    "    ],\n",
    "    [\n",
    "        [ 0, 1, 0],\n",
    "        [ 1, 0, 0],\n",
    "        [ 0, 0, 1]\n",
    "    ]\n",
    "])\n",
    "\n",
    "# generate the mechanical rep\n",
    "mechanical_rep = get_mechanical_representation(atom_spatial_coordinates_C4v, vector_rep_C4v)\n"
   ]
  },
  {
   "cell_type": "code",
   "execution_count": 11,
   "metadata": {},
   "outputs": [
    {
     "data": {
      "image/png": "[encoded data removed]",
      "text/plain": [
       "<Figure size 960x720 with 1 Axes>"
      ]
     },
     "metadata": {},
     "output_type": "display_data"
    }
   ],
   "source": [
    "irrep = 1\n",
    "\n",
    "initial_coords_test = np.zeros(np.shape(mechanical_rep)[1]).reshape((3,5))\n",
    "initial_coords_test[0,1] = 1 # init vector\n",
    "sym_adap = get_symmetry_adapted_modes(initial_coords_test, irrep, mechanical_rep, character_table_C4v, elements_per_class_C4v)\n",
    "\n",
    "# plotting\n",
    "ax = plt.figure().add_subplot(projection='3d')\n",
    "\n",
    "# Make the grid\n",
    "x, y, z = np.meshgrid(np.arange(3),\n",
    "                      np.arange(3),\n",
    "                      np.arange(3))\n",
    "\n",
    "# ax.quiver(x, y, z, u, v, w, length=1/2, normalize=True)\n",
    "ax.quiver(\n",
    "    atom_spatial_coordinates_C4v[0,:],\n",
    "    atom_spatial_coordinates_C4v[1,:],\n",
    "    atom_spatial_coordinates_C4v[2,:],\n",
    "    sym_adap[0,:],\n",
    "    sym_adap[1,:],\n",
    "    sym_adap[2,:],\n",
    "    length=0.75,\n",
    "    normalize=True,\n",
    "    color=\"purple\"\n",
    "    )\n",
    "ax.scatter(atom_spatial_coordinates_C4v[0,0],atom_spatial_coordinates_C4v[1,0],atom_spatial_coordinates_C4v[2,0], s=100, alpha=1)\n",
    "ax.scatter(atom_spatial_coordinates_C4v[0,1:],atom_spatial_coordinates_C4v[1,1:],atom_spatial_coordinates_C4v[2,1:], s=100, alpha=1)\n",
    "ax.set_xlim3d(-1.5,1.5)\n",
    "ax.set_ylim3d(-1.5,1.5)\n",
    "ax.set_zlim3d(-1.5,1.5)\n",
    "\n",
    "ax.set_axis_off()\n",
    "\n",
    "plt.show()\n"
   ]
  },
  {
   "cell_type": "code",
   "execution_count": null,
   "metadata": {},
   "outputs": [],
   "source": []
  }
 ],
 "metadata": {
  "kernelspec": {
   "display_name": "pv",
   "language": "python",
   "name": "python3"
  },
  "language_info": {
   "codemirror_mode": {
    "name": "ipython",
    "version": 3
   },
   "file_extension": ".py",
   "mimetype": "text/x-python",
   "name": "python",
   "nbconvert_exporter": "python",
   "pygments_lexer": "ipython3",
   "version": "3.12.3"
  }
 },
 "nbformat": 4,
 "nbformat_minor": 2
}
