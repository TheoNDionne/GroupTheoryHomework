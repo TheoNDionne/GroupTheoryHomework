{
 "cells": [
  {
   "cell_type": "markdown",
   "metadata": {},
   "source": [
    "# Group Theory Homework: A Study of Point Group Symmetries in Molecules\n",
    "\n",
    "A notebook that lays out plainly all the code used to complete the associated homework assg. Written by Theo N. Dionne."
   ]
  },
  {
   "cell_type": "code",
   "execution_count": 1,
   "metadata": {},
   "outputs": [],
   "source": [
    "# imports\n",
    "import numpy as np\n",
    "import matplotlib.pyplot as plt"
   ]
  },
  {
   "cell_type": "markdown",
   "metadata": {},
   "source": [
    "## Calculating the decomposition of the mechanical reps"
   ]
  },
  {
   "cell_type": "code",
   "execution_count": 2,
   "metadata": {},
   "outputs": [],
   "source": [
    "# functions\n",
    "def get_irrep_multiplicity(representation_characters, character_table, elements_per_class):\n",
    "    \"\"\"A function that gets the multiplicity of each irrep \n",
    "       for real representations using the magic formula.\n",
    "    \"\"\"\n",
    "    # multiply each character by the number of elements in its class\n",
    "    representation_characters_adjusted = representation_characters*elements_per_class\n",
    "\n",
    "    # perform a matrix multiplication between the character table and divide by group size\n",
    "    multiplicity_vector = character_table @ representation_characters_adjusted / np.sum(elements_per_class)\n",
    "\n",
    "    return multiplicity_vector"
   ]
  },
  {
   "cell_type": "markdown",
   "metadata": {},
   "source": [
    "### AB4 (C4v)"
   ]
  },
  {
   "cell_type": "code",
   "execution_count": 3,
   "metadata": {},
   "outputs": [
    {
     "name": "stdout",
     "output_type": "stream",
     "text": [
      "[3. 1. 1. 2. 4.]\n"
     ]
    }
   ],
   "source": [
    "# define the character table of the PG\n",
    "character_table_C4v = np.array([\n",
    "    [1, 1, 1, 1, 1],\n",
    "    [1, 1, 1,-1,-1],\n",
    "    [1, 1,-1, 1,-1],\n",
    "    [1, 1,-1,-1, 1],\n",
    "    [2,-2, 0, 0, 0]\n",
    "])  \n",
    "\n",
    "# define the number of elements per class\n",
    "elements_per_class_C4v = np.array([1,1,2,2,2])\n",
    "\n",
    "# the characters of the mechanical representation\n",
    "M_characters_C4v = np.array([15,-1,1,1,3])\n",
    "\n",
    "# Getting and printing the mutliplicities\n",
    "M_multiplicities_C4v = get_irrep_multiplicity(M_characters_C4v, character_table_C4v, elements_per_class_C4v)\n",
    "print(M_multiplicities_C4v) # in the same order as the table in the pdf"
   ]
  },
  {
   "cell_type": "markdown",
   "metadata": {},
   "source": [
    "### UF6 (Oh)"
   ]
  },
  {
   "cell_type": "code",
   "execution_count": 4,
   "metadata": {},
   "outputs": [
    {
     "name": "stdout",
     "output_type": "stream",
     "text": [
      "[1. 0. 0. 0. 1. 0. 1. 3. 1. 1.]\n"
     ]
    }
   ],
   "source": [
    "# define the character table of the PG\n",
    "character_table_Oh = np.array([\n",
    "[1, 1, 1, 1, 1, 1, 1, 1, 1, 1],\n",
    "[1, 1, 1, 1, 1,-1,-1,-1,-1,-1],\n",
    "[1, 1,-1,-1, 1, 1, 1,-1,-1, 1],\n",
    "[1, 1,-1,-1, 1,-1,-1, 1, 1,-1],\n",
    "[2, 2, 0, 0,-1, 2, 2, 0, 0,-1],\n",
    "[2, 2, 0, 0,-1,-2,-2, 0, 0, 1],\n",
    "[3,-1, 1,-1, 0, 3,-1, 1,-1, 0],\n",
    "[3,-1, 1,-1, 0,-3, 1,-1, 1, 0],\n",
    "[3,-1,-1, 1, 0, 3,-1,-1, 1, 0],\n",
    "[3,-1,-1, 1, 0,-3, 1, 1,-1, 0]\n",
    "])  \n",
    "\n",
    "# define the number of elements per class\n",
    "elements_per_class_Oh = np.array([1, 3, 6, 6, 8, 1, 3, 6, 6, 8])\n",
    "\n",
    "# the characters of the mechanical representation\n",
    "M_characters_Oh = np.array([21,-3, 3,-1, 0,-3, 5,-1, 3, 0])\n",
    "\n",
    "# Getting and printing the mutliplicities\n",
    "M_multiplicities_Oh = get_irrep_multiplicity(M_characters_Oh, character_table_Oh, elements_per_class_Oh)\n",
    "print(M_multiplicities_Oh) # in the same order as the table in the pdf"
   ]
  },
  {
   "cell_type": "markdown",
   "metadata": {},
   "source": [
    "## Getting symmetry adapted modes"
   ]
  },
  {
   "cell_type": "code",
   "execution_count": 5,
   "metadata": {},
   "outputs": [],
   "source": [
    "# functions\n",
    "\n",
    "def _get_swap_matrices(atom_coordinates, vector_rep):\n",
    "    \"\"\"A function that gets the matrices (swap matrices) that define \n",
    "    how the atoms are swapped under the action of the group. \"\"\"\n",
    "\n",
    "    # generate empty swap matrix array\n",
    "    number_of_operations = np.shape(vector_rep)[0] # number of group elements considered\n",
    "    number_of_atoms = np.shape(atom_coordinates)[1] # number of atoms considered\n",
    "    swap_matrices = np.zeros((number_of_operations, number_of_atoms, number_of_atoms))\n",
    "\n",
    "    # applies every transformation to the atom coordinates\n",
    "    transformed_coordinates = vector_rep @ atom_coordinates\n",
    "\n",
    "    for i in range(number_of_operations):\n",
    "        for j in range(number_of_atoms):\n",
    "            for k in range(number_of_atoms):\n",
    "                norm_transformed_minus_reference = np.linalg.norm(transformed_coordinates[i,:,k] - atom_coordinates[:,j])\n",
    "                if norm_transformed_minus_reference == 0:\n",
    "                    # set swap matrix\n",
    "                    swap_matrices[i,j,k] = 1\n",
    "                    break\n",
    "        \n",
    "    return swap_matrices, number_of_operations, number_of_atoms\n",
    "\n",
    "\n",
    "def get_mechanical_representation(atom_coordinates, vector_rep):\n",
    "    \"\"\"A function that calculates the mechanical representation based off the fact \n",
    "    that M = S \\\\otimes V where S is the swap matrix and V is the vector representation\"\"\"\n",
    "\n",
    "    # obtain swap matrices\n",
    "    swap_matrices, number_of_operations, number_of_atoms = _get_swap_matrices(atom_coordinates, vector_rep)\n",
    "    \n",
    "    # initialize mechanical repr matrices\n",
    "    m_rep_size = 3*number_of_atoms\n",
    "    mechanical_rep = np.zeros((number_of_operations, m_rep_size, m_rep_size))\n",
    "    \n",
    "    # generate the matrices\n",
    "    for i in range(number_of_operations):\n",
    "        mechanical_rep[i,:,:] = np.kron(swap_matrices[i,:,:], vector_rep[i,:,:])\n",
    "\n",
    "    return mechanical_rep\n",
    "\n",
    "\n",
    "def get_symmetry_adapted_modes(initial_coords, irrep, mechanical_rep, character_table, elements_per_class):\n",
    "    \"\"\"A function that gets the symmetry adapted modes.\"\"\"\n",
    "    \n",
    "    # Repeat the characters of the selected irrep once for every element in the class\n",
    "    characters_for_irreps = character_table[irrep, :] # gets the appropriate character vector\n",
    "    broadcasted_characters = np.repeat(characters_for_irreps, elements_per_class) # broadcasts characters appropriately\n",
    "\n",
    "    # initialize stuff\n",
    "    symmetry_adapted_modes = np.zeros_like(initial_coords)\n",
    "    number_of_elements = np.size(broadcasted_characters)\n",
    "\n",
    "    # loops over elements loosely implementing projector formula\n",
    "    for i in range(number_of_elements):\n",
    "        symmetry_adapted_modes = symmetry_adapted_modes + broadcasted_characters[i] * mechanical_rep[i,:,:] @ initial_coords\n",
    "\n",
    "    return symmetry_adapted_modes\n",
    "    \n",
    "\n",
    "    \n",
    "\n"
   ]
  },
  {
   "cell_type": "code",
   "execution_count": 6,
   "metadata": {},
   "outputs": [],
   "source": [
    "atom_spatial_coordinates_C4v = np.array([\n",
    "    [ 0, 1,-1,-1, 1],\n",
    "    [ 0, 1, 1,-1,-1],\n",
    "    [ 1, 0, 0, 0, 0]\n",
    "])"
   ]
  },
  {
   "cell_type": "code",
   "execution_count": 7,
   "metadata": {},
   "outputs": [
    {
     "name": "stdout",
     "output_type": "stream",
     "text": [
      "[[1 0 0]\n",
      " [0 1 0]\n",
      " [0 0 1]]\n",
      "[[-1  0  0]\n",
      " [ 0 -1  0]\n",
      " [ 0  0  1]]\n",
      "[[ 0 -1  0]\n",
      " [ 1  0  0]\n",
      " [ 0  0  1]]\n",
      "[[ 0  1  0]\n",
      " [-1  0  0]\n",
      " [ 0  0  1]]\n",
      "[[ 1  0  0]\n",
      " [ 0 -1  0]\n",
      " [ 0  0  1]]\n",
      "[[-1  0  0]\n",
      " [ 0  1  0]\n",
      " [ 0  0  1]]\n",
      "[[ 0 -1  0]\n",
      " [-1  0  0]\n",
      " [ 0  0  1]]\n",
      "[[0 1 0]\n",
      " [1 0 0]\n",
      " [0 0 1]]\n",
      "[[ 0 -1 -1  1  1]\n",
      " [ 0  1 -1 -1  1]\n",
      " [ 1  0  0  0  0]]\n"
     ]
    }
   ],
   "source": [
    "# Writting down the matrices from genpos\n",
    "vector_rep_C4v = np.array([\n",
    "    [\n",
    "        [ 1, 0, 0],\n",
    "        [ 0, 1, 0],\n",
    "        [ 0, 0, 1]\n",
    "    ],\n",
    "    [\n",
    "        [-1, 0, 0],\n",
    "        [ 0,-1, 0],\n",
    "        [ 0, 0, 1]\n",
    "    ],\n",
    "    [\n",
    "        [ 0,-1, 0],\n",
    "        [ 1, 0, 0],\n",
    "        [ 0, 0, 1]\n",
    "    ],\n",
    "    [\n",
    "        [ 0, 1, 0],\n",
    "        [-1, 0, 0],\n",
    "        [ 0, 0, 1]\n",
    "    ],\n",
    "    [\n",
    "        [ 1, 0, 0],\n",
    "        [ 0,-1, 0],\n",
    "        [ 0, 0, 1]\n",
    "    ],\n",
    "    [\n",
    "        [-1, 0, 0],\n",
    "        [ 0, 1, 0],\n",
    "        [ 0, 0, 1]\n",
    "    ],\n",
    "    [\n",
    "        [ 0,-1, 0],\n",
    "        [-1, 0, 0],\n",
    "        [ 0, 0, 1]\n",
    "    ],\n",
    "    [\n",
    "        [ 0, 1, 0],\n",
    "        [ 1, 0, 0],\n",
    "        [ 0, 0, 1]\n",
    "    ]\n",
    "])\n",
    "\n",
    "# print matrices to check em out\n",
    "for i in range(np.shape(vector_rep_C4v)[0]):\n",
    "    print(vector_rep_C4v[i,:,:])\n",
    "\n",
    "print(vector_rep_C4v[2,:,:] @ atom_spatial_coordinates_C4v)"
   ]
  },
  {
   "cell_type": "code",
   "execution_count": 8,
   "metadata": {},
   "outputs": [
    {
     "name": "stdout",
     "output_type": "stream",
     "text": [
      "15.0\n",
      "-1.0\n",
      "1.0\n",
      "1.0\n",
      "1.0\n",
      "1.0\n",
      "3.0\n",
      "3.0\n"
     ]
    }
   ],
   "source": [
    "mechanical_rep = get_mechanical_representation(atom_spatial_coordinates_C4v, vector_rep_C4v)\n",
    "\n",
    "for j in range(np.shape(mechanical_rep)[0]):\n",
    "    print(np.trace(mechanical_rep[j,:,:]))"
   ]
  },
  {
   "cell_type": "code",
   "execution_count": 62,
   "metadata": {},
   "outputs": [
    {
     "name": "stdout",
     "output_type": "stream",
     "text": [
      "[[0. 0. 0.]\n",
      " [1. 0. 0.]\n",
      " [0. 0. 0.]\n",
      " [0. 0. 0.]\n",
      " [0. 0. 0.]]\n"
     ]
    },
    {
     "data": {
      "image/png": "[encoded data removed]",
      "text/plain": [
       "<Figure size 640x480 with 1 Axes>"
      ]
     },
     "metadata": {},
     "output_type": "display_data"
    }
   ],
   "source": [
    "irrep = 3\n",
    "\n",
    "initial_coords_test = np.zeros(np.shape(mechanical_rep)[1])\n",
    "initial_coords_test[3] = 1 # init vector\n",
    "# initial_coords_test[7] = -1 # init vector\n",
    "sym_adap = get_symmetry_adapted_modes(initial_coords_test, irrep, mechanical_rep, character_table_C4v, elements_per_class_C4v)\n",
    "print(initial_coords_test.reshape(5,3))\n",
    "fucking_work = sym_adap.reshape(5,3).T\n",
    "\n",
    "ax = plt.figure().add_subplot(projection='3d')\n",
    "\n",
    "# Make the grid\n",
    "x, y, z = np.meshgrid(np.arange(3),\n",
    "                      np.arange(3),\n",
    "                      np.arange(3))\n",
    "\n",
    "# Make the direction data for the arrows\n",
    "u = 0\n",
    "v = 0\n",
    "w = -1\n",
    "\n",
    "# ax.quiver(x, y, z, u, v, w, length=1/2, normalize=True)\n",
    "ax.quiver(\n",
    "    atom_spatial_coordinates_C4v[0,:],\n",
    "    atom_spatial_coordinates_C4v[1,:],\n",
    "    atom_spatial_coordinates_C4v[2,:],\n",
    "    fucking_work[0,:],\n",
    "    fucking_work[1,:],\n",
    "    fucking_work[2,:],\n",
    "    length=0.75,\n",
    "    normalize=True\n",
    "    )\n",
    "ax.scatter(atom_spatial_coordinates_C4v[0,:],atom_spatial_coordinates_C4v[1,:],atom_spatial_coordinates_C4v[2,:], s=100)\n",
    "ax.set_xlim3d(-1.5,1.5)\n",
    "ax.set_ylim3d(-1.5,1.5)\n",
    "ax.set_zlim3d(-1.5,1.5)\n",
    "\n",
    "plt.show()\n"
   ]
  },
  {
   "cell_type": "code",
   "execution_count": null,
   "metadata": {},
   "outputs": [],
   "source": []
  }
 ],
 "metadata": {
  "kernelspec": {
   "display_name": "pv",
   "language": "python",
   "name": "python3"
  },
  "language_info": {
   "codemirror_mode": {
    "name": "ipython",
    "version": 3
   },
   "file_extension": ".py",
   "mimetype": "text/x-python",
   "name": "python",
   "nbconvert_exporter": "python",
   "pygments_lexer": "ipython3",
   "version": "3.12.3"
  }
 },
 "nbformat": 4,
 "nbformat_minor": 2
}
